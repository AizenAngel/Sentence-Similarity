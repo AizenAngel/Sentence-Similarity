{
 "metadata": {
  "language_info": {
   "codemirror_mode": {
    "name": "ipython",
    "version": 3
   },
   "file_extension": ".py",
   "mimetype": "text/x-python",
   "name": "python",
   "nbconvert_exporter": "python",
   "pygments_lexer": "ipython3",
   "version": "3.8.8"
  },
  "orig_nbformat": 4,
  "kernelspec": {
   "name": "python3",
   "display_name": "Python 3.8.8 64-bit ('base': conda)"
  },
  "interpreter": {
   "hash": "4ec72443e70a96c815c687e597a6e4b2c310b4249a61fce1b1eb2d3bef37b948"
  }
 },
 "nbformat": 4,
 "nbformat_minor": 2,
 "cells": [
  {
   "source": [
    "# Requirements\n",
    "### Uncomment line below to install necessary modules to run the application"
   ],
   "cell_type": "markdown",
   "metadata": {}
  },
  {
   "cell_type": "code",
   "execution_count": 15,
   "metadata": {},
   "outputs": [],
   "source": [
    "# !pip install nltk numpy termcolor"
   ]
  },
  {
   "cell_type": "code",
   "execution_count": 1,
   "metadata": {},
   "outputs": [],
   "source": [
    "from main import Main"
   ]
  },
  {
   "cell_type": "code",
   "execution_count": 2,
   "metadata": {},
   "outputs": [
    {
     "output_type": "stream",
     "name": "stdout",
     "text": [
      "Calculating word frequencies for Brown Dataset...\n",
      "100%|██████████| 57340/57340 [00:04<00:00, 13782.06it/s]\n"
     ]
    }
   ],
   "source": [
    "main = Main()"
   ]
  },
  {
   "cell_type": "code",
   "execution_count": 3,
   "metadata": {},
   "outputs": [
    {
     "output_type": "stream",
     "name": "stdout",
     "text": [
      "\u001b[32mSimilarity: 0.964366146307223\u001b[0m\n"
     ]
    }
   ],
   "source": [
    "main.find_similarity(str(\"A quick brown dog jumps over the lazy fox.\"), str('A quick brown fox jumps over the lazy dog.'))"
   ]
  },
  {
   "cell_type": "code",
   "execution_count": 4,
   "metadata": {},
   "outputs": [
    {
     "output_type": "stream",
     "name": "stdout",
     "text": [
      "\u001b[33mSimilarity: 0.5001274122939384\u001b[0m\n"
     ]
    }
   ],
   "source": [
    "main.find_similarity(str(\"A quick brown dog.\"), str('I play pokemon pig everyday!')) # TODO: Interesting edge case"
   ]
  },
  {
   "cell_type": "code",
   "execution_count": 5,
   "metadata": {},
   "outputs": [
    {
     "output_type": "stream",
     "name": "stdout",
     "text": [
      "\u001b[31mSimilarity: 0.3740308726731585\u001b[0m\n"
     ]
    }
   ],
   "source": [
    "main.find_similarity(str(\"A quick brown dog.\"), str('Random combined words not similar, should fail (duh)')) "
   ]
  },
  {
   "cell_type": "code",
   "execution_count": 6,
   "metadata": {},
   "outputs": [
    {
     "output_type": "stream",
     "name": "stdout",
     "text": [
      "\u001b[33mSimilarity: 0.6198564510098854\u001b[0m\n"
     ]
    }
   ],
   "source": [
    "main.find_similarity(str(\"I like that bachelor\"), str('I like that unmarried man')) "
   ]
  },
  {
   "cell_type": "code",
   "execution_count": 7,
   "metadata": {},
   "outputs": [
    {
     "output_type": "stream",
     "name": "stdout",
     "text": [
      "\u001b[32mSimilarity: 0.7645776927919063\u001b[0m\n"
     ]
    }
   ],
   "source": [
    "main.find_similarity(str(\"John is very nice\"), str('Is John very nice?')) "
   ]
  },
  {
   "cell_type": "code",
   "execution_count": 8,
   "metadata": {},
   "outputs": [
    {
     "output_type": "stream",
     "name": "stdout",
     "text": [
      "\u001b[33mSimilarity: 0.5831060242396329\u001b[0m\n"
     ]
    }
   ],
   "source": [
    "main.find_similarity(str(\"It is a dog\"), str('That must be your dog')) "
   ]
  },
  {
   "cell_type": "code",
   "execution_count": 9,
   "metadata": {},
   "outputs": [
    {
     "output_type": "stream",
     "name": "stdout",
     "text": [
      "\u001b[32mSimilarity: 0.7725176376442924\u001b[0m\n"
     ]
    }
   ],
   "source": [
    "main.find_similarity(str(\"It is a dog\"), str('Is it a log')) "
   ]
  },
  {
   "cell_type": "code",
   "execution_count": 10,
   "metadata": {},
   "outputs": [
    {
     "output_type": "stream",
     "name": "stdout",
     "text": [
      "\u001b[33mSimilarity: 0.6512753078762621\u001b[0m\n"
     ]
    }
   ],
   "source": [
    "main.find_similarity(str(\"It is a dog\"), str('It is a pig')) "
   ]
  },
  {
   "cell_type": "code",
   "execution_count": 11,
   "metadata": {},
   "outputs": [
    {
     "output_type": "stream",
     "name": "stdout",
     "text": [
      "\u001b[33mSimilarity: 0.5040550587090974\u001b[0m\n"
     ]
    }
   ],
   "source": [
    "main.find_similarity(str(\"I have a hammer\"), str('Take some nails')) "
   ]
  },
  {
   "cell_type": "code",
   "execution_count": 12,
   "metadata": {},
   "outputs": [
    {
     "output_type": "stream",
     "name": "stdout",
     "text": [
      "\u001b[31mSimilarity: 0.34891960726033217\u001b[0m\n"
     ]
    }
   ],
   "source": [
    "main.find_similarity(str(\"I have a pen\"), str('Where is ink')) "
   ]
  },
  {
   "cell_type": "code",
   "execution_count": 13,
   "metadata": {},
   "outputs": [
    {
     "output_type": "stream",
     "name": "stdout",
     "text": [
      "\u001b[33mSimilarity: 0.6192688967873675\u001b[0m\n"
     ]
    }
   ],
   "source": [
    "main.find_similarity(str(\"I have a pen\"), str('Where do you live?'))  # TODO: VERY BAD!"
   ]
  },
  {
   "cell_type": "code",
   "execution_count": 14,
   "metadata": {},
   "outputs": [
    {
     "output_type": "stream",
     "name": "stdout",
     "text": [
      "\u001b[31mSimilarity: 0.2976818450526338\u001b[0m\n"
     ]
    }
   ],
   "source": [
    "main.find_similarity(str(\"Red alcholic drink\"), str('A bottle of wine')) "
   ]
  },
  {
   "cell_type": "code",
   "execution_count": 15,
   "metadata": {},
   "outputs": [
    {
     "output_type": "stream",
     "name": "stdout",
     "text": [
      "\u001b[31mSimilarity: 0.38756080665044434\u001b[0m\n"
     ]
    }
   ],
   "source": [
    "main.find_similarity(str(\"Red alcholic drink\"), str('Fresh orange juice')) "
   ]
  },
  {
   "cell_type": "code",
   "execution_count": 16,
   "metadata": {},
   "outputs": [
    {
     "output_type": "stream",
     "name": "stdout",
     "text": [
      "\u001b[31mSimilarity: 0.3865388465738626\u001b[0m\n"
     ]
    }
   ],
   "source": [
    "main.find_similarity(str(\"Red alcholic drink\"), str('Fresh apple juice')) "
   ]
  },
  {
   "cell_type": "code",
   "execution_count": 17,
   "metadata": {},
   "outputs": [
    {
     "output_type": "stream",
     "name": "stdout",
     "text": [
      "\u001b[33mSimilarity: 0.5597969825438176\u001b[0m\n"
     ]
    }
   ],
   "source": [
    "main.find_similarity(str(\"I have a hammer\"), str('Take some apples')) # TODO: Not good"
   ]
  },
  {
   "cell_type": "code",
   "execution_count": null,
   "metadata": {},
   "outputs": [],
   "source": []
  }
 ]
}